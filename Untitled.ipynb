{
 "cells": [
  {
   "cell_type": "code",
   "execution_count": 34,
   "metadata": {},
   "outputs": [],
   "source": [
    "import random \n",
    "import numpy as np\n",
    "import pandas as pd\n",
    "import matplotlib.pyplot as plt\n",
    "from sklearn import preprocessing\n",
    "from keras import backend as K\n",
    "from keras.engine.topology import Layer\n",
    "from keras.models import Sequential\n",
    "from keras.layers import Dense\n",
    "from keras.initializers import RandomUniform, Initializer, Orthogonal, Constant\n",
    "import tensorflow as tf"
   ]
  },
  {
   "cell_type": "code",
   "execution_count": 35,
   "metadata": {},
   "outputs": [
    {
     "name": "stdout",
     "output_type": "stream",
     "text": [
      "  Object Detection  No. of Objects Human Detection  No. of Humans  \\\n",
      "0                Y               1               Y              5   \n",
      "1                N               0               Y              4   \n",
      "2                Y               3               N              0   \n",
      "3                N               0               N              0   \n",
      "4                Y               5               N              0   \n",
      "\n",
      "  Fire Detection Smoke Detection  \n",
      "0              N               Y  \n",
      "1              N               N  \n",
      "2              Y               Y  \n",
      "3              Y               Y  \n",
      "4              Y               Y  \n"
     ]
    }
   ],
   "source": [
    "traindata1 = pd.read_csv('sam1.csv')\n",
    "traindata2 = pd.read_csv('sam2.csv')\n",
    "traindata3 = pd.read_csv('sam3.csv')\n",
    "traindata4 = pd.read_csv('sam4.csv')\n",
    "print(traindata1.head())"
   ]
  },
  {
   "cell_type": "code",
   "execution_count": 36,
   "metadata": {},
   "outputs": [
    {
     "name": "stdout",
     "output_type": "stream",
     "text": [
      "['N' 'Y']\n",
      "['N' 'Y']\n",
      "['N' 'Y']\n",
      "['N' 'Y']\n",
      "   Object Detection  No. of Objects  Human Detection  No. of Humans  \\\n",
      "0                 1               1                1              5   \n",
      "1                 0               0                1              4   \n",
      "2                 1               3                0              0   \n",
      "3                 0               0                0              0   \n",
      "4                 1               5                0              0   \n",
      "\n",
      "   Fire Detection  Smoke Detection  \n",
      "0               0                1  \n",
      "1               0                0  \n",
      "2               1                1  \n",
      "3               1                1  \n",
      "4               1                1  \n",
      "['N' 'Y']\n",
      "['N' 'Y']\n",
      "['N' 'Y']\n",
      "['N' 'Y']\n",
      "   Object Detection  No. of Objects  Human Detection  No. of Humans  \\\n",
      "0                 0               0                0              0   \n",
      "1                 1               2                0              0   \n",
      "2                 0               0                0              0   \n",
      "3                 0               0                1             16   \n",
      "4                 1               5                1              4   \n",
      "\n",
      "   Fire Detection  Smoke Detection  \n",
      "0               1                1  \n",
      "1               1                1  \n",
      "2               1                1  \n",
      "3               0                1  \n",
      "4               0                0  \n",
      "['N' 'Y']\n",
      "['N' 'Y']\n",
      "['N' 'Y']\n",
      "['N' 'Y']\n",
      "   Object Detection  No. of Objects  Human Detection  No. of Humans  \\\n",
      "0                 1               1                0              0   \n",
      "1                 0               0                0              0   \n",
      "2                 1              13                0              0   \n",
      "3                 0               0                0              0   \n",
      "4                 1               2                0              0   \n",
      "\n",
      "   Fire Detection  Smoke Detection  \n",
      "0               1                1  \n",
      "1               0                0  \n",
      "2               1                1  \n",
      "3               0                1  \n",
      "4               1                1  \n",
      "['N' 'Y']\n",
      "['N' 'Y']\n",
      "['N' 'Y']\n",
      "['N' 'Y']\n",
      "   Object Detection  No. of Objects  Human Detection  No. of Humans  \\\n",
      "0                 0               0                1             18   \n",
      "1                 1               1                1             15   \n",
      "2                 0               0                0              0   \n",
      "3                 1              30                0              0   \n",
      "4                 0               0                1              3   \n",
      "\n",
      "   Fire Detection  Smoke Detection  \n",
      "0               1                1  \n",
      "1               1                1  \n",
      "2               1                1  \n",
      "3               1                1  \n",
      "4               1                1  \n"
     ]
    }
   ],
   "source": [
    "for i in [0,2,4,5]:\n",
    "    le = preprocessing.LabelEncoder()\n",
    "    le.fit(traindata1.iloc[:,i])\n",
    "    print(le.classes_)\n",
    "    traindata1.iloc[:,i]=le.transform(traindata1.iloc[:,i])\n",
    "print(traindata1.head())\n",
    "for i in [0,2,4,5]:\n",
    "    le = preprocessing.LabelEncoder()\n",
    "    le.fit(traindata2.iloc[:,i])\n",
    "    print(le.classes_)\n",
    "    traindata2.iloc[:,i]=le.transform(traindata2.iloc[:,i])\n",
    "print(traindata2.head())\n",
    "for i in [0,2,4,5]:\n",
    "    le = preprocessing.LabelEncoder()\n",
    "    le.fit(traindata3.iloc[:,i])\n",
    "    print(le.classes_)\n",
    "    traindata3.iloc[:,i]=le.transform(traindata3.iloc[:,i])\n",
    "print(traindata3.head())\n",
    "for i in [0,2,4,5]:\n",
    "    le = preprocessing.LabelEncoder()\n",
    "    le.fit(traindata4.iloc[:,i])\n",
    "    print(le.classes_)\n",
    "    traindata4.iloc[:,i]=le.transform(traindata4.iloc[:,i])\n",
    "print(traindata4.head())\n"
   ]
  },
  {
   "cell_type": "code",
   "execution_count": 37,
   "metadata": {},
   "outputs": [
    {
     "name": "stdout",
     "output_type": "stream",
     "text": [
      "(100, 6)\n",
      "(400, 6)\n"
     ]
    }
   ],
   "source": [
    "print(traindata1.shape)\n",
    "data=pd.concat([traindata1,traindata2,traindata3,traindata4])\n",
    "print(data.shape)"
   ]
  },
  {
   "cell_type": "code",
   "execution_count": 38,
   "metadata": {},
   "outputs": [],
   "source": [
    "l2_norm = lambda a, b: tf.reduce_sum(K.sqrt(((a - b) ** 2)))\n",
    "\n",
    "def rbf(x, gamma=1.0):\n",
    "    return K.exp(-1 * gamma * l2_norm(x[0, :], x[1, :]) ** 2)"
   ]
  },
  {
   "cell_type": "code",
   "execution_count": 58,
   "metadata": {},
   "outputs": [
    {
     "ename": "ValueError",
     "evalue": "Input 0 is incompatible with layer dense_52: expected min_ndim=2, found ndim=0",
     "output_type": "error",
     "traceback": [
      "\u001b[1;31m---------------------------------------------------------------------------\u001b[0m",
      "\u001b[1;31mValueError\u001b[0m                                Traceback (most recent call last)",
      "\u001b[1;32m<ipython-input-58-1a4cbfe3a792>\u001b[0m in \u001b[0;36m<module>\u001b[1;34m()\u001b[0m\n\u001b[0;32m      1\u001b[0m \u001b[0mmodel\u001b[0m \u001b[1;33m=\u001b[0m \u001b[0mSequential\u001b[0m\u001b[1;33m(\u001b[0m\u001b[1;33m)\u001b[0m\u001b[1;33m\u001b[0m\u001b[0m\n\u001b[0;32m      2\u001b[0m \u001b[0mmodel\u001b[0m\u001b[1;33m.\u001b[0m\u001b[0madd\u001b[0m\u001b[1;33m(\u001b[0m\u001b[0mDense\u001b[0m\u001b[1;33m(\u001b[0m\u001b[1;36m10\u001b[0m\u001b[1;33m,\u001b[0m \u001b[0minput_dim\u001b[0m\u001b[1;33m=\u001b[0m\u001b[1;36m6\u001b[0m\u001b[1;33m,\u001b[0m \u001b[0mactivation\u001b[0m\u001b[1;33m=\u001b[0m\u001b[0mrbf\u001b[0m\u001b[1;33m,\u001b[0m \u001b[0muse_bias\u001b[0m\u001b[1;33m=\u001b[0m\u001b[1;32mTrue\u001b[0m\u001b[1;33m)\u001b[0m\u001b[1;33m)\u001b[0m\u001b[1;33m\u001b[0m\u001b[0m\n\u001b[1;32m----> 3\u001b[1;33m \u001b[0mmodel\u001b[0m\u001b[1;33m.\u001b[0m\u001b[0madd\u001b[0m\u001b[1;33m(\u001b[0m\u001b[0mDense\u001b[0m\u001b[1;33m(\u001b[0m\u001b[1;36m1\u001b[0m\u001b[1;33m,\u001b[0m \u001b[0mactivation\u001b[0m\u001b[1;33m=\u001b[0m\u001b[1;34m'tanh'\u001b[0m\u001b[1;33m,\u001b[0m \u001b[0muse_bias\u001b[0m\u001b[1;33m=\u001b[0m\u001b[1;32mTrue\u001b[0m\u001b[1;33m)\u001b[0m\u001b[1;33m)\u001b[0m\u001b[1;33m\u001b[0m\u001b[0m\n\u001b[0m\u001b[0;32m      4\u001b[0m \u001b[1;33m\u001b[0m\u001b[0m\n\u001b[0;32m      5\u001b[0m \u001b[0mmodel\u001b[0m\u001b[1;33m.\u001b[0m\u001b[0mfit_generator\u001b[0m\u001b[1;33m(\u001b[0m\u001b[0mgenerator\u001b[0m\u001b[1;33m=\u001b[0m\u001b[0mgen\u001b[0m\u001b[1;33m(\u001b[0m\u001b[1;36m20\u001b[0m\u001b[1;33m)\u001b[0m\u001b[1;33m,\u001b[0m \u001b[0mepochs\u001b[0m\u001b[1;33m=\u001b[0m\u001b[1;36m10\u001b[0m\u001b[1;33m,\u001b[0m \u001b[0mvalidation_data\u001b[0m\u001b[1;33m=\u001b[0m\u001b[0mgen\u001b[0m\u001b[1;33m(\u001b[0m\u001b[1;36m5\u001b[0m\u001b[1;33m)\u001b[0m\u001b[1;33m,\u001b[0m \u001b[0mvalidation_steps\u001b[0m\u001b[1;33m=\u001b[0m\u001b[1;36m10\u001b[0m\u001b[1;33m)\u001b[0m\u001b[1;33m\u001b[0m\u001b[0m\n",
      "\u001b[1;32mc:\\program files\\python36\\lib\\site-packages\\keras\\models.py\u001b[0m in \u001b[0;36madd\u001b[1;34m(self, layer)\u001b[0m\n\u001b[0;32m    473\u001b[0m                           output_shapes=[self.outputs[0]._keras_shape])\n\u001b[0;32m    474\u001b[0m         \u001b[1;32melse\u001b[0m\u001b[1;33m:\u001b[0m\u001b[1;33m\u001b[0m\u001b[0m\n\u001b[1;32m--> 475\u001b[1;33m             \u001b[0moutput_tensor\u001b[0m \u001b[1;33m=\u001b[0m \u001b[0mlayer\u001b[0m\u001b[1;33m(\u001b[0m\u001b[0mself\u001b[0m\u001b[1;33m.\u001b[0m\u001b[0moutputs\u001b[0m\u001b[1;33m[\u001b[0m\u001b[1;36m0\u001b[0m\u001b[1;33m]\u001b[0m\u001b[1;33m)\u001b[0m\u001b[1;33m\u001b[0m\u001b[0m\n\u001b[0m\u001b[0;32m    476\u001b[0m             \u001b[1;32mif\u001b[0m \u001b[0misinstance\u001b[0m\u001b[1;33m(\u001b[0m\u001b[0moutput_tensor\u001b[0m\u001b[1;33m,\u001b[0m \u001b[0mlist\u001b[0m\u001b[1;33m)\u001b[0m\u001b[1;33m:\u001b[0m\u001b[1;33m\u001b[0m\u001b[0m\n\u001b[0;32m    477\u001b[0m                 raise TypeError('All layers in a Sequential model '\n",
      "\u001b[1;32mc:\\program files\\python36\\lib\\site-packages\\keras\\engine\\topology.py\u001b[0m in \u001b[0;36m__call__\u001b[1;34m(self, inputs, **kwargs)\u001b[0m\n\u001b[0;32m    557\u001b[0m                 \u001b[1;31m# Raise exceptions in case the input is not compatible\u001b[0m\u001b[1;33m\u001b[0m\u001b[1;33m\u001b[0m\u001b[0m\n\u001b[0;32m    558\u001b[0m                 \u001b[1;31m# with the input_spec specified in the layer constructor.\u001b[0m\u001b[1;33m\u001b[0m\u001b[1;33m\u001b[0m\u001b[0m\n\u001b[1;32m--> 559\u001b[1;33m                 \u001b[0mself\u001b[0m\u001b[1;33m.\u001b[0m\u001b[0massert_input_compatibility\u001b[0m\u001b[1;33m(\u001b[0m\u001b[0minputs\u001b[0m\u001b[1;33m)\u001b[0m\u001b[1;33m\u001b[0m\u001b[0m\n\u001b[0m\u001b[0;32m    560\u001b[0m \u001b[1;33m\u001b[0m\u001b[0m\n\u001b[0;32m    561\u001b[0m                 \u001b[1;31m# Collect input shapes to build layer.\u001b[0m\u001b[1;33m\u001b[0m\u001b[1;33m\u001b[0m\u001b[0m\n",
      "\u001b[1;32mc:\\program files\\python36\\lib\\site-packages\\keras\\engine\\topology.py\u001b[0m in \u001b[0;36massert_input_compatibility\u001b[1;34m(self, inputs)\u001b[0m\n\u001b[0;32m    472\u001b[0m                                      \u001b[0mself\u001b[0m\u001b[1;33m.\u001b[0m\u001b[0mname\u001b[0m \u001b[1;33m+\u001b[0m \u001b[1;34m': expected min_ndim='\u001b[0m \u001b[1;33m+\u001b[0m\u001b[1;33m\u001b[0m\u001b[0m\n\u001b[0;32m    473\u001b[0m                                      \u001b[0mstr\u001b[0m\u001b[1;33m(\u001b[0m\u001b[0mspec\u001b[0m\u001b[1;33m.\u001b[0m\u001b[0mmin_ndim\u001b[0m\u001b[1;33m)\u001b[0m \u001b[1;33m+\u001b[0m \u001b[1;34m', found ndim='\u001b[0m \u001b[1;33m+\u001b[0m\u001b[1;33m\u001b[0m\u001b[0m\n\u001b[1;32m--> 474\u001b[1;33m                                      str(K.ndim(x)))\n\u001b[0m\u001b[0;32m    475\u001b[0m             \u001b[1;31m# Check dtype.\u001b[0m\u001b[1;33m\u001b[0m\u001b[1;33m\u001b[0m\u001b[0m\n\u001b[0;32m    476\u001b[0m             \u001b[1;32mif\u001b[0m \u001b[0mspec\u001b[0m\u001b[1;33m.\u001b[0m\u001b[0mdtype\u001b[0m \u001b[1;32mis\u001b[0m \u001b[1;32mnot\u001b[0m \u001b[1;32mNone\u001b[0m\u001b[1;33m:\u001b[0m\u001b[1;33m\u001b[0m\u001b[0m\n",
      "\u001b[1;31mValueError\u001b[0m: Input 0 is incompatible with layer dense_52: expected min_ndim=2, found ndim=0"
     ]
    }
   ],
   "source": [
    "model = Sequential()\n",
    "model.add(Dense(10, input_dim=6, activation=rbf, use_bias=True))\n",
    "model.add(Dense(1, activation='tanh', use_bias=True))\n",
    "\n",
    "model.fit_generator(generator=gen(20), epochs=10, validation_data=gen(5), validation_steps=10)"
   ]
  },
  {
   "cell_type": "code",
   "execution_count": null,
   "metadata": {},
   "outputs": [],
   "source": []
  }
 ],
 "metadata": {
  "kernelspec": {
   "display_name": "Python 3",
   "language": "python",
   "name": "python3"
  },
  "language_info": {
   "codemirror_mode": {
    "name": "ipython",
    "version": 3
   },
   "file_extension": ".py",
   "mimetype": "text/x-python",
   "name": "python",
   "nbconvert_exporter": "python",
   "pygments_lexer": "ipython3",
   "version": "3.6.2"
  }
 },
 "nbformat": 4,
 "nbformat_minor": 2
}
