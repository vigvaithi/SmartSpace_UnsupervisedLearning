{
 "cells": [
  {
   "cell_type": "code",
   "execution_count": 34,
   "metadata": {},
   "outputs": [],
   "source": [
    "import random \n",
    "import numpy as np\n",
    "import pandas as pd\n",
    "import matplotlib.pyplot as plt\n",
    "from sklearn import preprocessing\n",
    "from keras import backend as K\n",
    "from keras.engine.topology import Layer\n",
    "from keras.models import Sequential\n",
    "from keras.layers import Dense\n",
    "from keras.initializers import RandomUniform, Initializer, Orthogonal, Constant\n",
    "import tensorflow as tf"
   ]
  },
  {
   "cell_type": "code",
   "execution_count": 35,
   "metadata": {},
   "outputs": [
    {
     "name": "stdout",
     "output_type": "stream",
     "text": [
      "  Object Detection  No. of Objects Human Detection  No. of Humans  \\\n",
      "0                Y               1               Y              5   \n",
      "1                N               0               Y              4   \n",
      "2                Y               3               N              0   \n",
      "3                N               0               N              0   \n",
      "4                Y               5               N              0   \n",
      "\n",
      "  Fire Detection Smoke Detection  \n",
      "0              N               Y  \n",
      "1              N               N  \n",
      "2              Y               Y  \n",
      "3              Y               Y  \n",
      "4              Y               Y  \n"
     ]
    }
   ],
   "source": [
    "traindata1 = pd.read_csv('sam1.csv')\n",
    "traindata2 = pd.read_csv('sam2.csv')\n",
    "traindata3 = pd.read_csv('sam3.csv')\n",
    "traindata4 = pd.read_csv('sam4.csv')\n",
    "print(traindata1.head())"
   ]
  },
  {
   "cell_type": "code",
   "execution_count": 36,
   "metadata": {},
   "outputs": [
    {
     "name": "stdout",
     "output_type": "stream",
     "text": [
      "['N' 'Y']\n",
      "['N' 'Y']\n",
      "['N' 'Y']\n",
      "['N' 'Y']\n",
      "   Object Detection  No. of Objects  Human Detection  No. of Humans  \\\n",
      "0                 1               1                1              5   \n",
      "1                 0               0                1              4   \n",
      "2                 1               3                0              0   \n",
      "3                 0               0                0              0   \n",
      "4                 1               5                0              0   \n",
      "\n",
      "   Fire Detection  Smoke Detection  \n",
      "0               0                1  \n",
      "1               0                0  \n",
      "2               1                1  \n",
      "3               1                1  \n",
      "4               1                1  \n",
      "['N' 'Y']\n",
      "['N' 'Y']\n",
      "['N' 'Y']\n",
      "['N' 'Y']\n",
      "   Object Detection  No. of Objects  Human Detection  No. of Humans  \\\n",
      "0                 0               0                0              0   \n",
      "1                 1               2                0              0   \n",
      "2                 0               0                0              0   \n",
      "3                 0               0                1             16   \n",
      "4                 1               5                1              4   \n",
      "\n",
      "   Fire Detection  Smoke Detection  \n",
      "0               1                1  \n",
      "1               1                1  \n",
      "2               1                1  \n",
      "3               0                1  \n",
      "4               0                0  \n",
      "['N' 'Y']\n",
      "['N' 'Y']\n",
      "['N' 'Y']\n",
      "['N' 'Y']\n",
      "   Object Detection  No. of Objects  Human Detection  No. of Humans  \\\n",
      "0                 1               1                0              0   \n",
      "1                 0               0                0              0   \n",
      "2                 1              13                0              0   \n",
      "3                 0               0                0              0   \n",
      "4                 1               2                0              0   \n",
      "\n",
      "   Fire Detection  Smoke Detection  \n",
      "0               1                1  \n",
      "1               0                0  \n",
      "2               1                1  \n",
      "3               0                1  \n",
      "4               1                1  \n",
      "['N' 'Y']\n",
      "['N' 'Y']\n",
      "['N' 'Y']\n",
      "['N' 'Y']\n",
      "   Object Detection  No. of Objects  Human Detection  No. of Humans  \\\n",
      "0                 0               0                1             18   \n",
      "1                 1               1                1             15   \n",
      "2                 0               0                0              0   \n",
      "3                 1              30                0              0   \n",
      "4                 0               0                1              3   \n",
      "\n",
      "   Fire Detection  Smoke Detection  \n",
      "0               1                1  \n",
      "1               1                1  \n",
      "2               1                1  \n",
      "3               1                1  \n",
      "4               1                1  \n"
     ]
    }
   ],
   "source": [
    "for i in [0,2,4,5]:\n",
    "    le = preprocessing.LabelEncoder()\n",
    "    le.fit(traindata1.iloc[:,i])\n",
    "    print(le.classes_)\n",
    "    traindata1.iloc[:,i]=le.transform(traindata1.iloc[:,i])\n",
    "print(traindata1.head())\n",
    "for i in [0,2,4,5]:\n",
    "    le = preprocessing.LabelEncoder()\n",
    "    le.fit(traindata2.iloc[:,i])\n",
    "    print(le.classes_)\n",
    "    traindata2.iloc[:,i]=le.transform(traindata2.iloc[:,i])\n",
    "print(traindata2.head())\n",
    "for i in [0,2,4,5]:\n",
    "    le = preprocessing.LabelEncoder()\n",
    "    le.fit(traindata3.iloc[:,i])\n",
    "    print(le.classes_)\n",
    "    traindata3.iloc[:,i]=le.transform(traindata3.iloc[:,i])\n",
    "print(traindata3.head())\n",
    "for i in [0,2,4,5]:\n",
    "    le = preprocessing.LabelEncoder()\n",
    "    le.fit(traindata4.iloc[:,i])\n",
    "    print(le.classes_)\n",
    "    traindata4.iloc[:,i]=le.transform(traindata4.iloc[:,i])\n",
    "print(traindata4.head())\n"
   ]
  },
  {
   "cell_type": "code",
   "execution_count": 37,
   "metadata": {},
   "outputs": [
    {
     "name": "stdout",
     "output_type": "stream",
     "text": [
      "(100, 6)\n",
      "(400, 6)\n"
     ]
    }
   ],
   "source": [
    "print(traindata1.shape)\n",
    "data=pd.concat([traindata1,traindata2,traindata3,traindata4])\n",
    "print(data.shape)"
   ]
  },
  {
   "cell_type": "code",
   "execution_count": 38,
   "metadata": {},
   "outputs": [],
   "source": [
    "l2_norm = lambda a, b: tf.reduce_sum(K.sqrt(((a - b) ** 2)))\n",
    "\n",
    "def rbf(x, gamma=1.0):\n",
    "    return K.exp(-1 * gamma * l2_norm(x[0, :], x[1, :]) ** 2)"
   ]
  },
  {
   "cell_type": "code",
   "execution_count": 50,
   "metadata": {},
   "outputs": [
    {
     "ename": "TypeError",
     "evalue": "('Keyword argument not understood:', 'return_sequences')",
     "output_type": "error",
     "traceback": [
      "\u001b[1;31m---------------------------------------------------------------------------\u001b[0m",
      "\u001b[1;31mTypeError\u001b[0m                                 Traceback (most recent call last)",
      "\u001b[1;32m<ipython-input-50-7bda7d530662>\u001b[0m in \u001b[0;36m<module>\u001b[1;34m()\u001b[0m\n\u001b[0;32m      1\u001b[0m model = Sequential([\n\u001b[1;32m----> 2\u001b[1;33m     \u001b[0mDense\u001b[0m\u001b[1;33m(\u001b[0m\u001b[1;36m4\u001b[0m\u001b[1;33m,\u001b[0m\u001b[0minput_dim\u001b[0m\u001b[1;33m=\u001b[0m\u001b[1;36m6\u001b[0m\u001b[1;33m,\u001b[0m \u001b[0mactivation\u001b[0m\u001b[1;33m=\u001b[0m\u001b[0mrbf\u001b[0m\u001b[1;33m,\u001b[0m \u001b[0muse_bias\u001b[0m\u001b[1;33m=\u001b[0m\u001b[1;32mTrue\u001b[0m\u001b[1;33m,\u001b[0m\u001b[0mreturn_sequences\u001b[0m\u001b[1;33m=\u001b[0m\u001b[1;32mTrue\u001b[0m\u001b[1;33m)\u001b[0m\u001b[1;33m,\u001b[0m\u001b[1;33m\u001b[0m\u001b[0m\n\u001b[0m\u001b[0;32m      3\u001b[0m     \u001b[0mDense\u001b[0m\u001b[1;33m(\u001b[0m\u001b[1;36m1\u001b[0m\u001b[1;33m,\u001b[0m \u001b[0mactivation\u001b[0m\u001b[1;33m=\u001b[0m\u001b[1;34m'tanh'\u001b[0m\u001b[1;33m)\u001b[0m\u001b[1;33m\u001b[0m\u001b[0m\n\u001b[0;32m      4\u001b[0m ])\n",
      "\u001b[1;32mc:\\program files\\python36\\lib\\site-packages\\keras\\legacy\\interfaces.py\u001b[0m in \u001b[0;36mwrapper\u001b[1;34m(*args, **kwargs)\u001b[0m\n\u001b[0;32m     85\u001b[0m                 warnings.warn('Update your `' + object_name +\n\u001b[0;32m     86\u001b[0m                               '` call to the Keras 2 API: ' + signature, stacklevel=2)\n\u001b[1;32m---> 87\u001b[1;33m             \u001b[1;32mreturn\u001b[0m \u001b[0mfunc\u001b[0m\u001b[1;33m(\u001b[0m\u001b[1;33m*\u001b[0m\u001b[0margs\u001b[0m\u001b[1;33m,\u001b[0m \u001b[1;33m**\u001b[0m\u001b[0mkwargs\u001b[0m\u001b[1;33m)\u001b[0m\u001b[1;33m\u001b[0m\u001b[0m\n\u001b[0m\u001b[0;32m     88\u001b[0m         \u001b[0mwrapper\u001b[0m\u001b[1;33m.\u001b[0m\u001b[0m_original_function\u001b[0m \u001b[1;33m=\u001b[0m \u001b[0mfunc\u001b[0m\u001b[1;33m\u001b[0m\u001b[0m\n\u001b[0;32m     89\u001b[0m         \u001b[1;32mreturn\u001b[0m \u001b[0mwrapper\u001b[0m\u001b[1;33m\u001b[0m\u001b[0m\n",
      "\u001b[1;32mc:\\program files\\python36\\lib\\site-packages\\keras\\layers\\core.py\u001b[0m in \u001b[0;36m__init__\u001b[1;34m(self, units, activation, use_bias, kernel_initializer, bias_initializer, kernel_regularizer, bias_regularizer, activity_regularizer, kernel_constraint, bias_constraint, **kwargs)\u001b[0m\n\u001b[0;32m    806\u001b[0m         \u001b[1;32mif\u001b[0m \u001b[1;34m'input_shape'\u001b[0m \u001b[1;32mnot\u001b[0m \u001b[1;32min\u001b[0m \u001b[0mkwargs\u001b[0m \u001b[1;32mand\u001b[0m \u001b[1;34m'input_dim'\u001b[0m \u001b[1;32min\u001b[0m \u001b[0mkwargs\u001b[0m\u001b[1;33m:\u001b[0m\u001b[1;33m\u001b[0m\u001b[0m\n\u001b[0;32m    807\u001b[0m             \u001b[0mkwargs\u001b[0m\u001b[1;33m[\u001b[0m\u001b[1;34m'input_shape'\u001b[0m\u001b[1;33m]\u001b[0m \u001b[1;33m=\u001b[0m \u001b[1;33m(\u001b[0m\u001b[0mkwargs\u001b[0m\u001b[1;33m.\u001b[0m\u001b[0mpop\u001b[0m\u001b[1;33m(\u001b[0m\u001b[1;34m'input_dim'\u001b[0m\u001b[1;33m)\u001b[0m\u001b[1;33m,\u001b[0m\u001b[1;33m)\u001b[0m\u001b[1;33m\u001b[0m\u001b[0m\n\u001b[1;32m--> 808\u001b[1;33m         \u001b[0msuper\u001b[0m\u001b[1;33m(\u001b[0m\u001b[0mDense\u001b[0m\u001b[1;33m,\u001b[0m \u001b[0mself\u001b[0m\u001b[1;33m)\u001b[0m\u001b[1;33m.\u001b[0m\u001b[0m__init__\u001b[0m\u001b[1;33m(\u001b[0m\u001b[1;33m**\u001b[0m\u001b[0mkwargs\u001b[0m\u001b[1;33m)\u001b[0m\u001b[1;33m\u001b[0m\u001b[0m\n\u001b[0m\u001b[0;32m    809\u001b[0m         \u001b[0mself\u001b[0m\u001b[1;33m.\u001b[0m\u001b[0munits\u001b[0m \u001b[1;33m=\u001b[0m \u001b[0munits\u001b[0m\u001b[1;33m\u001b[0m\u001b[0m\n\u001b[0;32m    810\u001b[0m         \u001b[0mself\u001b[0m\u001b[1;33m.\u001b[0m\u001b[0mactivation\u001b[0m \u001b[1;33m=\u001b[0m \u001b[0mactivations\u001b[0m\u001b[1;33m.\u001b[0m\u001b[0mget\u001b[0m\u001b[1;33m(\u001b[0m\u001b[0mactivation\u001b[0m\u001b[1;33m)\u001b[0m\u001b[1;33m\u001b[0m\u001b[0m\n",
      "\u001b[1;32mc:\\program files\\python36\\lib\\site-packages\\keras\\engine\\topology.py\u001b[0m in \u001b[0;36m__init__\u001b[1;34m(self, **kwargs)\u001b[0m\n\u001b[0;32m    278\u001b[0m         \u001b[1;32mfor\u001b[0m \u001b[0mkwarg\u001b[0m \u001b[1;32min\u001b[0m \u001b[0mkwargs\u001b[0m\u001b[1;33m:\u001b[0m\u001b[1;33m\u001b[0m\u001b[0m\n\u001b[0;32m    279\u001b[0m             \u001b[1;32mif\u001b[0m \u001b[0mkwarg\u001b[0m \u001b[1;32mnot\u001b[0m \u001b[1;32min\u001b[0m \u001b[0mallowed_kwargs\u001b[0m\u001b[1;33m:\u001b[0m\u001b[1;33m\u001b[0m\u001b[0m\n\u001b[1;32m--> 280\u001b[1;33m                 \u001b[1;32mraise\u001b[0m \u001b[0mTypeError\u001b[0m\u001b[1;33m(\u001b[0m\u001b[1;34m'Keyword argument not understood:'\u001b[0m\u001b[1;33m,\u001b[0m \u001b[0mkwarg\u001b[0m\u001b[1;33m)\u001b[0m\u001b[1;33m\u001b[0m\u001b[0m\n\u001b[0m\u001b[0;32m    281\u001b[0m         \u001b[0mname\u001b[0m \u001b[1;33m=\u001b[0m \u001b[0mkwargs\u001b[0m\u001b[1;33m.\u001b[0m\u001b[0mget\u001b[0m\u001b[1;33m(\u001b[0m\u001b[1;34m'name'\u001b[0m\u001b[1;33m)\u001b[0m\u001b[1;33m\u001b[0m\u001b[0m\n\u001b[0;32m    282\u001b[0m         \u001b[1;32mif\u001b[0m \u001b[1;32mnot\u001b[0m \u001b[0mname\u001b[0m\u001b[1;33m:\u001b[0m\u001b[1;33m\u001b[0m\u001b[0m\n",
      "\u001b[1;31mTypeError\u001b[0m: ('Keyword argument not understood:', 'return_sequences')"
     ]
    }
   ],
   "source": [
    "model = Sequential([\n",
    "    Dense(10,input_dim=6, activation=rbf, use_bias=True),\n",
    "    Dense(1, activation='relu')\n",
    "])"
   ]
  },
  {
   "cell_type": "code",
   "execution_count": null,
   "metadata": {},
   "outputs": [],
   "source": []
  }
 ],
 "metadata": {
  "kernelspec": {
   "display_name": "Python 3",
   "language": "python",
   "name": "python3"
  },
  "language_info": {
   "codemirror_mode": {
    "name": "ipython",
    "version": 3
   },
   "file_extension": ".py",
   "mimetype": "text/x-python",
   "name": "python",
   "nbconvert_exporter": "python",
   "pygments_lexer": "ipython3",
   "version": "3.6.2"
  }
 },
 "nbformat": 4,
 "nbformat_minor": 2
}
