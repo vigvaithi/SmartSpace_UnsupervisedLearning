{
 "cells": [
  {
   "cell_type": "code",
   "execution_count": 10,
   "metadata": {},
   "outputs": [],
   "source": [
    "import random \n",
    "import numpy as np\n",
    "import pandas as pd\n",
    "import matplotlib.pyplot as plt\n",
    "from sklearn.preprocessing import OneHotEncoder\n",
    "from sklearn import preprocessing\n",
    "from sklearn.cluster import KMeans \n",
    "from sklearn.cluster import SpectralClustering\n",
    "from sklearn.datasets.samples_generator import make_blobs \n",
    "from sklearn.neighbors import KNeighborsClassifier\n",
    "from sklearn import metrics\n",
    "from sklearn.metrics import (precision_score, recall_score,f1_score, accuracy_score,mean_squared_error,mean_absolute_error)\n",
    "from sklearn import model_selection\n",
    "from sklearn.model_selection import train_test_split\n",
    "from sklearn.metrics import confusion_matrix\n",
    "from sklearn.preprocessing import Normalizer\n",
    "%matplotlib inline\n"
   ]
  },
  {
   "cell_type": "code",
   "execution_count": 11,
   "metadata": {},
   "outputs": [
    {
     "name": "stdout",
     "output_type": "stream",
     "text": [
      "  Object Detection  No. of Objects Human Detection  No. of Humans  \\\n",
      "0                Y               1               Y              5   \n",
      "1                N               0               Y              4   \n",
      "2                Y               3               N              0   \n",
      "3                N               0               N              0   \n",
      "4                Y               5               N              0   \n",
      "\n",
      "  Fire Detection Smoke Detection  \n",
      "0              N               Y  \n",
      "1              N               N  \n",
      "2              Y               Y  \n",
      "3              Y               Y  \n",
      "4              Y               Y  \n"
     ]
    }
   ],
   "source": [
    "traindata1 = pd.read_csv('sam1.csv')\n",
    "traindata2 = pd.read_csv('sam2.csv')\n",
    "traindata3 = pd.read_csv('sam3.csv')\n",
    "traindata4 = pd.read_csv('sam4.csv')\n",
    "print(traindata1.head())"
   ]
  },
  {
   "cell_type": "code",
   "execution_count": 12,
   "metadata": {},
   "outputs": [
    {
     "name": "stdout",
     "output_type": "stream",
     "text": [
      "['N' 'Y']\n",
      "['N' 'Y']\n",
      "['N' 'Y']\n",
      "['N' 'Y']\n",
      "   Object Detection  No. of Objects  Human Detection  No. of Humans  \\\n",
      "0                 1               1                1              5   \n",
      "1                 0               0                1              4   \n",
      "2                 1               3                0              0   \n",
      "3                 0               0                0              0   \n",
      "4                 1               5                0              0   \n",
      "\n",
      "   Fire Detection  Smoke Detection  \n",
      "0               0                1  \n",
      "1               0                0  \n",
      "2               1                1  \n",
      "3               1                1  \n",
      "4               1                1  \n",
      "['N' 'Y']\n",
      "['N' 'Y']\n",
      "['N' 'Y']\n",
      "['N' 'Y']\n",
      "   Object Detection  No. of Objects  Human Detection  No. of Humans  \\\n",
      "0                 0               0                0              0   \n",
      "1                 1               2                0              0   \n",
      "2                 0               0                0              0   \n",
      "3                 0               0                1             16   \n",
      "4                 1               5                1              4   \n",
      "\n",
      "   Fire Detection  Smoke Detection  \n",
      "0               1                1  \n",
      "1               1                1  \n",
      "2               1                1  \n",
      "3               0                1  \n",
      "4               0                0  \n",
      "['N' 'Y']\n",
      "['N' 'Y']\n",
      "['N' 'Y']\n",
      "['N' 'Y']\n",
      "   Object Detection  No. of Objects  Human Detection  No. of Humans  \\\n",
      "0                 1               1                0              0   \n",
      "1                 0               0                0              0   \n",
      "2                 1              13                0              0   \n",
      "3                 0               0                0              0   \n",
      "4                 1               2                0              0   \n",
      "\n",
      "   Fire Detection  Smoke Detection  \n",
      "0               1                1  \n",
      "1               0                0  \n",
      "2               1                1  \n",
      "3               0                1  \n",
      "4               1                1  \n",
      "['N' 'Y']\n",
      "['N' 'Y']\n",
      "['N' 'Y']\n",
      "['N' 'Y']\n",
      "   Object Detection  No. of Objects  Human Detection  No. of Humans  \\\n",
      "0                 0               0                1             18   \n",
      "1                 1               1                1             15   \n",
      "2                 0               0                0              0   \n",
      "3                 1              30                0              0   \n",
      "4                 0               0                1              3   \n",
      "\n",
      "   Fire Detection  Smoke Detection  \n",
      "0               1                1  \n",
      "1               1                1  \n",
      "2               1                1  \n",
      "3               1                1  \n",
      "4               1                1  \n"
     ]
    }
   ],
   "source": [
    "for i in [0,2,4,5]:\n",
    "    le = preprocessing.LabelEncoder()\n",
    "    le.fit(traindata1.iloc[:,i])\n",
    "    print(le.classes_)\n",
    "    traindata1.iloc[:,i]=le.transform(traindata1.iloc[:,i])\n",
    "print(traindata1.head())\n",
    "for i in [0,2,4,5]:\n",
    "    le = preprocessing.LabelEncoder()\n",
    "    le.fit(traindata2.iloc[:,i])\n",
    "    print(le.classes_)\n",
    "    traindata2.iloc[:,i]=le.transform(traindata2.iloc[:,i])\n",
    "print(traindata2.head())\n",
    "for i in [0,2,4,5]:\n",
    "    le = preprocessing.LabelEncoder()\n",
    "    le.fit(traindata3.iloc[:,i])\n",
    "    print(le.classes_)\n",
    "    traindata3.iloc[:,i]=le.transform(traindata3.iloc[:,i])\n",
    "print(traindata3.head())\n",
    "for i in [0,2,4,5]:\n",
    "    le = preprocessing.LabelEncoder()\n",
    "    le.fit(traindata4.iloc[:,i])\n",
    "    print(le.classes_)\n",
    "    traindata4.iloc[:,i]=le.transform(traindata4.iloc[:,i])\n",
    "print(traindata4.head())\n",
    "\n"
   ]
  },
  {
   "cell_type": "code",
   "execution_count": 13,
   "metadata": {},
   "outputs": [
    {
     "name": "stdout",
     "output_type": "stream",
     "text": [
      "(100, 6)\n",
      "(400, 6)\n"
     ]
    }
   ],
   "source": [
    "print(traindata1.shape)\n",
    "data=pd.concat([traindata1,traindata2,traindata3,traindata4])\n",
    "print(data.shape)"
   ]
  },
  {
   "cell_type": "code",
   "execution_count": 14,
   "metadata": {},
   "outputs": [
    {
     "name": "stdout",
     "output_type": "stream",
     "text": [
      "[1 1 1 1 1 1 1 1 1 1 1 1 1 1 1 1 1 1 1 1 1 1 1 1 1 1 1 1 1 1 1 1 0 1 0 1 0\n",
      " 1 0 1 0 1 0 1 0 1 0 1 0 1 0 1 0 1 0 1 0 1 0 1 0 1 0 1 0 1 0 1 0 1 0 1 0 1\n",
      " 0 1 0 1 0 1 0 1 0 1 0 1 0 1 0 1 0 1 0 1 0 1 0 1 0 1 1 1 1 1 1 1 1 1 1 1 1\n",
      " 1 1 1 1 1 1 1 1 1 1 1 1 1 1 1 1 1 1 1 1 1 1 1 0 1 0 1 0 1 0 1 0 1 0 1 0 1\n",
      " 0 1 0 1 0 1 0 1 1 1 0 1 0 1 1 1 1 1 0 1 0 1 0 1 0 1 0 1 0 1 0 1 0 1 0 1 0\n",
      " 1 1 1 1 1 1 1 0 1 0 1 0 1 0 0 1 1 1 1 1 1 0 1 1 1 0 1 1 0 1 1 1 1 1 1 1 1\n",
      " 1 1 1 1 1 1 1 1 0 1 1 1 0 1 1 1 0 1 0 1 1 1 1 1 1 1 1 1 1 1 1 1 1 1 1 1 1\n",
      " 1 0 0 0 1 0 1 0 1 1 1 1 0 1 0 1 1 1 1 1 1 1 1 1 0 1 1 1 1 0 1 0 1 0 1 1 1\n",
      " 1 1 1 1 1 1 1 1 1 1 1 1 0 1 1 0 0 1 1 1 1 1 1 1 1 1 0 1 1 1 1 1 1 0 1 1 1\n",
      " 1 1 1 1 1 0 1 1 0 0 1 1 1 1 1 1 1 1 1 0 1 1 1 1 1 1 0 1 1 1 1 1 1 1 1 1 1\n",
      " 1 0 0 1 1 1 1 1 1 1 1 1 0 1 1 1 1 1 1 0 1 1 1 1 1 1 1 1 0 1]\n",
      "(400,)\n"
     ]
    }
   ],
   "source": [
    "model=KMeans(n_clusters=2, random_state=0)\n",
    "model.fit(data)\n",
    "labels=model.labels_\n",
    "print(labels)\n",
    "print(labels.shape)\n"
   ]
  },
  {
   "cell_type": "code",
   "execution_count": 15,
   "metadata": {},
   "outputs": [
    {
     "name": "stdout",
     "output_type": "stream",
     "text": [
      "   Object Detection  No. of Objects  Human Detection  No. of Humans  \\\n",
      "0                 1               1                1              5   \n",
      "1                 0               0                1              4   \n",
      "2                 1               3                0              0   \n",
      "3                 0               0                0              0   \n",
      "4                 1               5                0              0   \n",
      "\n",
      "   Fire Detection  Smoke Detection  label  \n",
      "0               0                1      1  \n",
      "1               0                0      1  \n",
      "2               1                1      1  \n",
      "3               1                1      1  \n",
      "4               1                1      1  \n"
     ]
    }
   ],
   "source": [
    "data=data.assign(label=labels)\n",
    "print(data.head())"
   ]
  },
  {
   "cell_type": "code",
   "execution_count": 16,
   "metadata": {},
   "outputs": [
    {
     "name": "stdout",
     "output_type": "stream",
     "text": [
      "   Object Detection  No. of Objects  Human Detection  No. of Humans  \\\n",
      "0                 1               1                1              5   \n",
      "1                 0               0                1              4   \n",
      "2                 1               3                0              0   \n",
      "3                 0               0                0              0   \n",
      "4                 1               5                0              0   \n",
      "\n",
      "   Fire Detection  Smoke Detection  \n",
      "0               0                1  \n",
      "1               0                0  \n",
      "2               1                1  \n",
      "3               1                1  \n",
      "4               1                1  \n",
      "0    1\n",
      "1    1\n",
      "2    1\n",
      "3    1\n",
      "4    1\n",
      "Name: label, dtype: int32\n",
      "(120, 6)\n",
      "(280, 6)\n"
     ]
    }
   ],
   "source": [
    "X=data.iloc[:,0:6]\n",
    "Y=data.iloc[:,6]\n",
    "print(X.head())\n",
    "print(Y.head())\n",
    "scaler = Normalizer().fit(X)\n",
    "trainX = scaler.transform(X)\n",
    "traindata = np.array(X)\n",
    "trainlabel = np.array(Y)\n",
    "traindata, testdata, trainlabel, testlabel = model_selection.train_test_split(traindata,trainlabel , test_size=0.3)\n",
    "print(testdata.shape)\n",
    "print(traindata.shape)\n"
   ]
  },
  {
   "cell_type": "code",
   "execution_count": 17,
   "metadata": {},
   "outputs": [
    {
     "name": "stdout",
     "output_type": "stream",
     "text": [
      "KNeighborsClassifier(algorithm='auto', leaf_size=30, metric='minkowski',\n",
      "           metric_params=None, n_jobs=1, n_neighbors=5, p=2,\n",
      "           weights='uniform')\n",
      "[[28  0]\n",
      " [ 0 92]]\n",
      "1.000\n",
      "1.000\n",
      "Accuracy\n",
      "1.000\n",
      "precision\n",
      "1.000\n",
      "recall\n",
      "1.000\n",
      "f-score\n",
      "1.000\n",
      "fpr\n",
      "1.000\n",
      "tpr\n",
      "1.000\n",
      "***************************************************************\n"
     ]
    }
   ],
   "source": [
    "model = KNeighborsClassifier()\n",
    "model.fit(traindata, trainlabel)\n",
    "print(model)\n",
    "# make predictions\n",
    "expected = testlabel\n",
    "predicted = model.predict(testdata)\n",
    "#np.savetxt('res/predictedKNN.txt', predicted, fmt='%01d')\n",
    "# summarize the fit of the model\n",
    "accuracy = accuracy_score(expected, predicted)\n",
    "recall = recall_score(expected, predicted, average=\"binary\")\n",
    "precision = precision_score(expected, predicted , average=\"binary\")\n",
    "f1 = f1_score(expected, predicted , average=\"binary\")\n",
    "\n",
    "cm = metrics.confusion_matrix(expected, predicted)\n",
    "print(cm)\n",
    "tpr = float(cm[0][0])/np.sum(cm[0])\n",
    "fpr = float(cm[1][1])/np.sum(cm[1])\n",
    "print(\"%.3f\" %tpr)\n",
    "print(\"%.3f\" %fpr)\n",
    "print(\"Accuracy\")\n",
    "print(\"%.3f\" %accuracy)\n",
    "print(\"precision\")\n",
    "print(\"%.3f\" %precision)\n",
    "print(\"recall\")\n",
    "print(\"%.3f\" %recall)\n",
    "print(\"f-score\")\n",
    "print(\"%.3f\" %f1)\n",
    "print(\"fpr\")\n",
    "print(\"%.3f\" %fpr)\n",
    "print(\"tpr\")\n",
    "print(\"%.3f\" %tpr)\n",
    "print(\"***************************************************************\")\n"
   ]
  },
  {
   "cell_type": "code",
   "execution_count": null,
   "metadata": {},
   "outputs": [],
   "source": []
  }
 ],
 "metadata": {
  "kernelspec": {
   "display_name": "Python 3",
   "language": "python",
   "name": "python3"
  },
  "language_info": {
   "codemirror_mode": {
    "name": "ipython",
    "version": 3
   },
   "file_extension": ".py",
   "mimetype": "text/x-python",
   "name": "python",
   "nbconvert_exporter": "python",
   "pygments_lexer": "ipython3",
   "version": "3.6.2"
  }
 },
 "nbformat": 4,
 "nbformat_minor": 2
}
